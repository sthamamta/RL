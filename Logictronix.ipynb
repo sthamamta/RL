{
  "nbformat": 4,
  "nbformat_minor": 0,
  "metadata": {
    "colab": {
      "name": "Logictronix.ipynb",
      "provenance": [],
      "authorship_tag": "ABX9TyM7TB/9U3F5w4AsTxO2/6xB",
      "include_colab_link": true
    },
    "kernelspec": {
      "name": "python3",
      "display_name": "Python 3"
    },
    "language_info": {
      "name": "python"
    }
  },
  "cells": [
    {
      "cell_type": "markdown",
      "metadata": {
        "id": "view-in-github",
        "colab_type": "text"
      },
      "source": [
        "<a href=\"https://colab.research.google.com/github/sthamamta/RL/blob/main/Logictronix.ipynb\" target=\"_parent\"><img src=\"https://colab.research.google.com/assets/colab-badge.svg\" alt=\"Open In Colab\"/></a>"
      ]
    },
    {
      "cell_type": "code",
      "metadata": {
        "colab": {
          "base_uri": "https://localhost:8080/"
        },
        "id": "TXE__yPrAWfb",
        "outputId": "98397fff-4fe8-421b-d3a6-78c8506ec24f"
      },
      "source": [
        "import numpy as np\n",
        "\n",
        "class FeatureVector:\n",
        "    result = []\n",
        "    res_output = []\n",
        "\n",
        "    def find_soln(cls, x):\n",
        "      cls.result.append(x)\n",
        "      if(len(cls.result)<3):\n",
        "        print(None)\n",
        "      else:\n",
        "        res_output = cls.result[len(cls.result)-3:len(cls.result)+1]\n",
        "        res_output.reverse()\n",
        "        print(np.array(res_output))\n",
        "\n",
        "fv = FeatureVector()\n",
        "fv.find_soln([1,2,3,4,5])\n",
        "fv.find_soln([6,2,3,4,5])\n",
        "fv.find_soln([7,2,3,4,5])\n",
        "fv.find_soln([8,2,9,4,5])\n",
        "fv.find_soln([9,2,9,4,5])\n",
        "\n"
      ],
      "execution_count": 38,
      "outputs": [
        {
          "output_type": "stream",
          "text": [
            "None\n",
            "None\n",
            "[[7 2 3 4 5]\n",
            " [6 2 3 4 5]\n",
            " [1 2 3 4 5]]\n",
            "[[8 2 9 4 5]\n",
            " [7 2 3 4 5]\n",
            " [6 2 3 4 5]]\n",
            "[[9 2 9 4 5]\n",
            " [8 2 9 4 5]\n",
            " [7 2 3 4 5]]\n"
          ],
          "name": "stdout"
        }
      ]
    },
    {
      "cell_type": "code",
      "metadata": {
        "id": "5lkRZtscO3vH"
      },
      "source": [
        ""
      ],
      "execution_count": null,
      "outputs": []
    }
  ]
}